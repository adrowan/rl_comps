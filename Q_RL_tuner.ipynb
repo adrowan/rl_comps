{
 "cells": [
  {
   "cell_type": "code",
   "execution_count": 1,
   "metadata": {
    "collapsed": true
   },
   "outputs": [],
   "source": [
    "import tensorflow as tf\n",
    "import numpy as np\n",
    "import sys\n",
    "\n",
    "from magenta.common import tf_lib"
   ]
  },
  {
   "cell_type": "code",
   "execution_count": 2,
   "metadata": {
    "collapsed": true
   },
   "outputs": [],
   "source": [
    "from magenta.models.rl_tuner import rl_tuner\n",
    "from magenta.models.rl_tuner import rl_tuner_ops"
   ]
  },
  {
   "cell_type": "code",
   "execution_count": 3,
   "metadata": {
    "collapsed": true
   },
   "outputs": [],
   "source": [
    "rl_tuner_hparams = tf_lib.HParams(random_action_probability=0.1,    \n",
    "                               store_every_nth=1,\n",
    "                               train_every_nth=5,\n",
    "                               minibatch_size=32,\n",
    "                               discount_rate=0.5,\n",
    "                               max_experience=100000,\n",
    "                               target_network_update_rate=0.01)"
   ]
  },
  {
   "cell_type": "code",
   "execution_count": 4,
   "metadata": {
    "collapsed": true
   },
   "outputs": [],
   "source": [
    "SAVE_PATH = \"/home/andrew/Git/rl_comps/q/\""
   ]
  },
  {
   "cell_type": "code",
   "execution_count": 5,
   "metadata": {
    "collapsed": true
   },
   "outputs": [],
   "source": [
    "# Model parameter settings\n",
    "ALGORITHM = 'q' # Q-Learning\n",
    "REWARD_SCALER = 1.0 # The weight placed on music theory rewards, i.e. r_MT * reward_scalar\n",
    "OUTPUT_EVERY_NTH = 50000 # The number of steps before the model evaluates itself and stores a checkpoint\n",
    "NUM_NOTES_IN_COMPOSITION = 300\n",
    "PRIME_WITH_MIDI = False"
   ]
  },
  {
   "cell_type": "code",
   "execution_count": 6,
   "metadata": {
    "collapsed": false
   },
   "outputs": [
    {
     "name": "stdout",
     "output_type": "stream",
     "text": [
      "Retrieving checkpoint of Note RNN from Magenta download server.\n",
      "INFO:tensorflow:Initializing q network\n",
      "INFO:tensorflow:Using custom hparams\n",
      "INFO:tensorflow:Initializing melody RNN graph for scope q_network\n",
      "WARNING:tensorflow:<tensorflow.python.ops.rnn_cell.LSTMCell object at 0x7f094a59a110>: Using a concatenated state is slower and will soon be deprecated.  Use state_is_tuple=True.\n",
      "WARNING:tensorflow:From /home/andrew/anaconda3/envs/magenta/lib/python2.7/site-packages/magenta/models/rl_tuner/rl_tuner_ops.py:262 in get_variable_names.: all_variables (from tensorflow.python.ops.variables) is deprecated and will be removed after 2017-03-02.\n",
      "Instructions for updating:\n",
      "Please use tf.global_variables instead.\n",
      "INFO:tensorflow:Initializing target q network\n",
      "INFO:tensorflow:Using custom hparams\n",
      "INFO:tensorflow:Initializing melody RNN graph for scope target_q_network\n",
      "WARNING:tensorflow:<tensorflow.python.ops.rnn_cell.LSTMCell object at 0x7f09470e76d0>: Using a concatenated state is slower and will soon be deprecated.  Use state_is_tuple=True.\n",
      "WARNING:tensorflow:From /home/andrew/anaconda3/envs/magenta/lib/python2.7/site-packages/magenta/models/rl_tuner/rl_tuner_ops.py:262 in get_variable_names.: all_variables (from tensorflow.python.ops.variables) is deprecated and will be removed after 2017-03-02.\n",
      "Instructions for updating:\n",
      "Please use tf.global_variables instead.\n",
      "INFO:tensorflow:Initializing reward network\n",
      "INFO:tensorflow:Using custom hparams\n",
      "INFO:tensorflow:Initializing melody RNN graph for scope reward_rnn\n",
      "WARNING:tensorflow:<tensorflow.python.ops.rnn_cell.LSTMCell object at 0x7f09470e75d0>: Using a concatenated state is slower and will soon be deprecated.  Use state_is_tuple=True.\n",
      "WARNING:tensorflow:From /home/andrew/anaconda3/envs/magenta/lib/python2.7/site-packages/magenta/models/rl_tuner/rl_tuner_ops.py:262 in get_variable_names.: all_variables (from tensorflow.python.ops.variables) is deprecated and will be removed after 2017-03-02.\n",
      "Instructions for updating:\n",
      "Please use tf.global_variables instead.\n",
      "INFO:tensorflow:Q network cell: <tensorflow.python.ops.rnn_cell.MultiRNNCell object at 0x7f094b23e2d0>\n",
      "INFO:tensorflow:Adding RL graph variables\n",
      "INFO:tensorflow:Adding reward computation portion of the graph\n",
      "INFO:tensorflow:Adding taking action portion of graph\n",
      "WARNING:tensorflow:From /home/andrew/anaconda3/envs/magenta/lib/python2.7/site-packages/magenta/models/rl_tuner/rl_tuner.py:426 in build_graph.: histogram_summary (from tensorflow.python.ops.logging_ops) is deprecated and will be removed after 2016-11-30.\n",
      "Instructions for updating:\n",
      "Please switch to tf.summary.histogram. Note that tf.summary.histogram uses the node name instead of the tag. This means that TensorFlow will automatically de-duplicate summary names based on their scope.\n",
      "INFO:tensorflow:Add estimating future rewards portion of graph\n",
      "WARNING:tensorflow:From /home/andrew/anaconda3/envs/magenta/lib/python2.7/site-packages/magenta/models/rl_tuner/rl_tuner.py:454 in build_graph.: histogram_summary (from tensorflow.python.ops.logging_ops) is deprecated and will be removed after 2016-11-30.\n",
      "Instructions for updating:\n",
      "Please switch to tf.summary.histogram. Note that tf.summary.histogram uses the node name instead of the tag. This means that TensorFlow will automatically de-duplicate summary names based on their scope.\n",
      "INFO:tensorflow:Adding q value prediction portion of graph\n",
      "WARNING:tensorflow:From /home/andrew/anaconda3/envs/magenta/lib/python2.7/site-packages/magenta/models/rl_tuner/rl_tuner.py:509 in build_graph.: histogram_summary (from tensorflow.python.ops.logging_ops) is deprecated and will be removed after 2016-11-30.\n",
      "Instructions for updating:\n",
      "Please switch to tf.summary.histogram. Note that tf.summary.histogram uses the node name instead of the tag. This means that TensorFlow will automatically de-duplicate summary names based on their scope.\n",
      "WARNING:tensorflow:From /home/andrew/anaconda3/envs/magenta/lib/python2.7/site-packages/magenta/models/rl_tuner/rl_tuner.py:511 in build_graph.: histogram_summary (from tensorflow.python.ops.logging_ops) is deprecated and will be removed after 2016-11-30.\n",
      "Instructions for updating:\n",
      "Please switch to tf.summary.histogram. Note that tf.summary.histogram uses the node name instead of the tag. This means that TensorFlow will automatically de-duplicate summary names based on their scope.\n",
      "WARNING:tensorflow:From /home/andrew/anaconda3/envs/magenta/lib/python2.7/site-packages/magenta/models/rl_tuner/rl_tuner.py:509 in build_graph.: histogram_summary (from tensorflow.python.ops.logging_ops) is deprecated and will be removed after 2016-11-30.\n",
      "Instructions for updating:\n",
      "Please switch to tf.summary.histogram. Note that tf.summary.histogram uses the node name instead of the tag. This means that TensorFlow will automatically de-duplicate summary names based on their scope.\n",
      "WARNING:tensorflow:From /home/andrew/anaconda3/envs/magenta/lib/python2.7/site-packages/magenta/models/rl_tuner/rl_tuner.py:511 in build_graph.: histogram_summary (from tensorflow.python.ops.logging_ops) is deprecated and will be removed after 2016-11-30.\n",
      "Instructions for updating:\n",
      "Please switch to tf.summary.histogram. Note that tf.summary.histogram uses the node name instead of the tag. This means that TensorFlow will automatically de-duplicate summary names based on their scope.\n",
      "WARNING:tensorflow:From /home/andrew/anaconda3/envs/magenta/lib/python2.7/site-packages/magenta/models/rl_tuner/rl_tuner.py:509 in build_graph.: histogram_summary (from tensorflow.python.ops.logging_ops) is deprecated and will be removed after 2016-11-30.\n",
      "Instructions for updating:\n",
      "Please switch to tf.summary.histogram. Note that tf.summary.histogram uses the node name instead of the tag. This means that TensorFlow will automatically de-duplicate summary names based on their scope.\n",
      "WARNING:tensorflow:From /home/andrew/anaconda3/envs/magenta/lib/python2.7/site-packages/magenta/models/rl_tuner/rl_tuner.py:511 in build_graph.: histogram_summary (from tensorflow.python.ops.logging_ops) is deprecated and will be removed after 2016-11-30.\n",
      "Instructions for updating:\n",
      "Please switch to tf.summary.histogram. Note that tf.summary.histogram uses the node name instead of the tag. This means that TensorFlow will automatically de-duplicate summary names based on their scope.\n",
      "WARNING:tensorflow:From /home/andrew/anaconda3/envs/magenta/lib/python2.7/site-packages/magenta/models/rl_tuner/rl_tuner.py:509 in build_graph.: histogram_summary (from tensorflow.python.ops.logging_ops) is deprecated and will be removed after 2016-11-30.\n",
      "Instructions for updating:\n",
      "Please switch to tf.summary.histogram. Note that tf.summary.histogram uses the node name instead of the tag. This means that TensorFlow will automatically de-duplicate summary names based on their scope.\n",
      "WARNING:tensorflow:From /home/andrew/anaconda3/envs/magenta/lib/python2.7/site-packages/magenta/models/rl_tuner/rl_tuner.py:511 in build_graph.: histogram_summary (from tensorflow.python.ops.logging_ops) is deprecated and will be removed after 2016-11-30.\n",
      "Instructions for updating:\n",
      "Please switch to tf.summary.histogram. Note that tf.summary.histogram uses the node name instead of the tag. This means that TensorFlow will automatically de-duplicate summary names based on their scope.\n",
      "WARNING:tensorflow:From /home/andrew/anaconda3/envs/magenta/lib/python2.7/site-packages/magenta/models/rl_tuner/rl_tuner.py:509 in build_graph.: histogram_summary (from tensorflow.python.ops.logging_ops) is deprecated and will be removed after 2016-11-30.\n",
      "Instructions for updating:\n",
      "Please switch to tf.summary.histogram. Note that tf.summary.histogram uses the node name instead of the tag. This means that TensorFlow will automatically de-duplicate summary names based on their scope.\n",
      "WARNING:tensorflow:From /home/andrew/anaconda3/envs/magenta/lib/python2.7/site-packages/magenta/models/rl_tuner/rl_tuner.py:509 in build_graph.: histogram_summary (from tensorflow.python.ops.logging_ops) is deprecated and will be removed after 2016-11-30.\n",
      "Instructions for updating:\n",
      "Please switch to tf.summary.histogram. Note that tf.summary.histogram uses the node name instead of the tag. This means that TensorFlow will automatically de-duplicate summary names based on their scope.\n",
      "WARNING:tensorflow:From /home/andrew/anaconda3/envs/magenta/lib/python2.7/site-packages/magenta/models/rl_tuner/rl_tuner.py:509 in build_graph.: histogram_summary (from tensorflow.python.ops.logging_ops) is deprecated and will be removed after 2016-11-30.\n",
      "Instructions for updating:\n",
      "Please switch to tf.summary.histogram. Note that tf.summary.histogram uses the node name instead of the tag. This means that TensorFlow will automatically de-duplicate summary names based on their scope.\n",
      "WARNING:tensorflow:From /home/andrew/anaconda3/envs/magenta/lib/python2.7/site-packages/magenta/models/rl_tuner/rl_tuner.py:509 in build_graph.: histogram_summary (from tensorflow.python.ops.logging_ops) is deprecated and will be removed after 2016-11-30.\n",
      "Instructions for updating:\n",
      "Please switch to tf.summary.histogram. Note that tf.summary.histogram uses the node name instead of the tag. This means that TensorFlow will automatically de-duplicate summary names based on their scope.\n",
      "WARNING:tensorflow:From /home/andrew/anaconda3/envs/magenta/lib/python2.7/site-packages/magenta/models/rl_tuner/rl_tuner.py:509 in build_graph.: histogram_summary (from tensorflow.python.ops.logging_ops) is deprecated and will be removed after 2016-11-30.\n",
      "Instructions for updating:\n",
      "Please switch to tf.summary.histogram. Note that tf.summary.histogram uses the node name instead of the tag. This means that TensorFlow will automatically de-duplicate summary names based on their scope.\n",
      "WARNING:tensorflow:From /home/andrew/anaconda3/envs/magenta/lib/python2.7/site-packages/magenta/models/rl_tuner/rl_tuner.py:509 in build_graph.: histogram_summary (from tensorflow.python.ops.logging_ops) is deprecated and will be removed after 2016-11-30.\n",
      "Instructions for updating:\n",
      "Please switch to tf.summary.histogram. Note that tf.summary.histogram uses the node name instead of the tag. This means that TensorFlow will automatically de-duplicate summary names based on their scope.\n",
      "WARNING:tensorflow:From /home/andrew/anaconda3/envs/magenta/lib/python2.7/site-packages/magenta/models/rl_tuner/rl_tuner.py:509 in build_graph.: histogram_summary (from tensorflow.python.ops.logging_ops) is deprecated and will be removed after 2016-11-30.\n",
      "Instructions for updating:\n",
      "Please switch to tf.summary.histogram. Note that tf.summary.histogram uses the node name instead of the tag. This means that TensorFlow will automatically de-duplicate summary names based on their scope.\n",
      "WARNING:tensorflow:From /home/andrew/anaconda3/envs/magenta/lib/python2.7/site-packages/magenta/models/rl_tuner/rl_tuner.py:509 in build_graph.: histogram_summary (from tensorflow.python.ops.logging_ops) is deprecated and will be removed after 2016-11-30.\n",
      "Instructions for updating:\n",
      "Please switch to tf.summary.histogram. Note that tf.summary.histogram uses the node name instead of the tag. This means that TensorFlow will automatically de-duplicate summary names based on their scope.\n",
      "INFO:tensorflow:Adding target network update portion of graph\n",
      "WARNING:tensorflow:From /home/andrew/anaconda3/envs/magenta/lib/python2.7/site-packages/magenta/models/rl_tuner/note_rnn_loader.py:420 in variables.: all_variables (from tensorflow.python.ops.variables) is deprecated and will be removed after 2017-03-02.\n",
      "Instructions for updating:\n",
      "Please use tf.global_variables instead.\n",
      "WARNING:tensorflow:From /home/andrew/anaconda3/envs/magenta/lib/python2.7/site-packages/magenta/models/rl_tuner/note_rnn_loader.py:420 in variables.: all_variables (from tensorflow.python.ops.variables) is deprecated and will be removed after 2017-03-02.\n",
      "Instructions for updating:\n",
      "Please use tf.global_variables instead.\n",
      "WARNING:tensorflow:From /home/andrew/anaconda3/envs/magenta/lib/python2.7/site-packages/magenta/models/rl_tuner/rl_tuner.py:530 in build_graph.: scalar_summary (from tensorflow.python.ops.logging_ops) is deprecated and will be removed after 2016-11-30.\n",
      "Instructions for updating:\n",
      "Please switch to tf.summary.scalar. Note that tf.summary.scalar uses the node name instead of the tag. This means that TensorFlow will automatically de-duplicate summary names based on the scope they are created in. Also, passing a tensor or list of tags to a scalar summary op is no longer supported.\n",
      "WARNING:tensorflow:From /home/andrew/anaconda3/envs/magenta/lib/python2.7/site-packages/magenta/models/rl_tuner/rl_tuner.py:532 in build_graph.: merge_all_summaries (from tensorflow.python.ops.logging_ops) is deprecated and will be removed after 2016-11-30.\n",
      "Instructions for updating:\n",
      "Please switch to tf.summary.merge_all.\n",
      "WARNING:tensorflow:From /home/andrew/anaconda3/envs/magenta/lib/python2.7/site-packages/tensorflow/python/ops/logging_ops.py:264 in merge_all_summaries.: merge_summary (from tensorflow.python.ops.logging_ops) is deprecated and will be removed after 2016-11-30.\n",
      "Instructions for updating:\n",
      "Please switch to tf.summary.merge.\n",
      "WARNING:tensorflow:From /home/andrew/anaconda3/envs/magenta/lib/python2.7/site-packages/magenta/models/rl_tuner/rl_tuner.py:296 in initialize_internal_models_graph_session.: initialize_all_variables (from tensorflow.python.ops.variables) is deprecated and will be removed after 2017-03-02.\n",
      "Instructions for updating:\n",
      "Use `tf.global_variables_initializer` instead.\n",
      "INFO:tensorflow:Restoring variables from checkpoint\n",
      "WARNING:tensorflow:From /home/andrew/anaconda3/envs/magenta/lib/python2.7/site-packages/magenta/models/rl_tuner/note_rnn_loader.py:420 in variables.: all_variables (from tensorflow.python.ops.variables) is deprecated and will be removed after 2017-03-02.\n",
      "Instructions for updating:\n",
      "Please use tf.global_variables instead.\n",
      "INFO:tensorflow:Checkpoint dir: /home/andrew/Git/rl_comps\n",
      "WARNING:tensorflow:Can't find checkpoint file, using /home/andrew/Git/rl_comps/note_rnn.ckpt\n",
      "INFO:tensorflow:Checkpoint file: /home/andrew/Git/rl_comps/note_rnn.ckpt\n",
      "INFO:tensorflow:Restoring variables from checkpoint\n",
      "WARNING:tensorflow:From /home/andrew/anaconda3/envs/magenta/lib/python2.7/site-packages/magenta/models/rl_tuner/note_rnn_loader.py:420 in variables.: all_variables (from tensorflow.python.ops.variables) is deprecated and will be removed after 2017-03-02.\n",
      "Instructions for updating:\n",
      "Please use tf.global_variables instead.\n",
      "INFO:tensorflow:Checkpoint dir: /home/andrew/Git/rl_comps\n",
      "WARNING:tensorflow:Can't find checkpoint file, using /home/andrew/Git/rl_comps/note_rnn.ckpt\n",
      "INFO:tensorflow:Checkpoint file: /home/andrew/Git/rl_comps/note_rnn.ckpt\n",
      "INFO:tensorflow:Restoring variables from checkpoint\n",
      "WARNING:tensorflow:From /home/andrew/anaconda3/envs/magenta/lib/python2.7/site-packages/magenta/models/rl_tuner/note_rnn_loader.py:420 in variables.: all_variables (from tensorflow.python.ops.variables) is deprecated and will be removed after 2017-03-02.\n",
      "Instructions for updating:\n",
      "Please use tf.global_variables instead.\n",
      "INFO:tensorflow:Checkpoint dir: /home/andrew/Git/rl_comps\n",
      "WARNING:tensorflow:Can't find checkpoint file, using /home/andrew/Git/rl_comps/note_rnn.ckpt\n",
      "INFO:tensorflow:Checkpoint file: /home/andrew/Git/rl_comps/note_rnn.ckpt\n",
      "WARNING:tensorflow:From /home/andrew/anaconda3/envs/magenta/lib/python2.7/site-packages/magenta/models/rl_tuner/note_rnn_loader.py:420 in variables.: all_variables (from tensorflow.python.ops.variables) is deprecated and will be removed after 2017-03-02.\n",
      "Instructions for updating:\n",
      "Please use tf.global_variables instead.\n",
      "WARNING:tensorflow:From /home/andrew/anaconda3/envs/magenta/lib/python2.7/site-packages/magenta/models/rl_tuner/note_rnn_loader.py:420 in variables.: all_variables (from tensorflow.python.ops.variables) is deprecated and will be removed after 2017-03-02.\n",
      "Instructions for updating:\n",
      "Please use tf.global_variables instead.\n",
      "\n",
      "Successfully initialized internal nets from checkpoint!\n",
      "INFO:tensorflow:\n",
      "Successfully initialized internal nets from checkpoint!\n"
     ]
    }
   ],
   "source": [
    "q_rl_net = rl_tuner.RLTuner(SAVE_PATH, \n",
    "                          dqn_hparams=rl_tuner_hparams, \n",
    "                          algorithm=ALGORITHM,\n",
    "                          reward_scaler=REWARD_SCALER,\n",
    "                          output_every_nth=OUTPUT_EVERY_NTH,\n",
    "                          num_notes_in_melody=NUM_NOTES_IN_COMPOSITION)"
   ]
  },
  {
   "cell_type": "code",
   "execution_count": 7,
   "metadata": {
    "collapsed": false
   },
   "outputs": [
    {
     "name": "stdout",
     "output_type": "stream",
     "text": [
      "Attempting to restore from checkpoint /home/andrew/Git/rl_comps/q/AR_model_20170124-950000\n",
      "INFO:tensorflow:Attempting to restore from checkpoint /home/andrew/Git/rl_comps/q/AR_model_20170124-950000\n"
     ]
    }
   ],
   "source": [
    "q_rl_net.restore_from_directory(directory=SAVE_PATH, checkpoint_name=\"AR_model_20170124-950000\")"
   ]
  },
  {
   "cell_type": "code",
   "execution_count": 8,
   "metadata": {
    "collapsed": false
   },
   "outputs": [
    {
     "name": "stdout",
     "output_type": "stream",
     "text": [
      "INFO:tensorflow:Priming with note 14\n",
      "INFO:tensorflow:Generated sequence: [14, 1, 18, 0, 16, 0, 16, 21, 21, 0, 19, 0, 0, 22, 0, 14, 0, 0, 1, 19, 0, 26, 1, 23, 0, 1, 23, 25, 1, 26, 0, 1, 25, 26, 0, 21, 0, 1, 0, 23, 21, 0, 1, 18, 0, 0, 23, 0, 28, 26, 0, 0, 23, 0, 21, 16, 0, 18, 0, 14, 0, 0, 1, 14, 0, 18, 0, 21, 18, 0, 23, 19, 0, 0, 16, 0, 14, 0, 0, 13, 0, 23, 31, 0, 26, 0, 0, 1, 21, 1, 25, 28, 0, 1, 26, 30, 0, 26, 0, 0, 23, 0, 21, 0, 0, 23, 0, 13, 0, 0, 14, 0, 0, 1, 19, 0, 16, 0, 17, 0, 0, 1, 23, 25, 0, 0, 1, 23, 0, 1, 21, 0, 0, 1, 19, 0, 18, 21, 21, 20, 0, 21, 0, 0, 1, 14, 0, 18, 0, 21, 0, 0, 1, 14, 0, 17, 0, 21, 0, 0, 24, 0, 21, 0, 0, 16, 21, 26, 0, 18, 0, 14, 0, 0, 1, 18, 0, 11, 0, 17, 0, 0, 14, 0, 16, 0, 14, 0, 1, 26, 0, 0, 1, 21, 0, 18, 14, 0, 0, 16, 18, 21, 0, 0, 19, 0, 0, 16, 0, 21, 16, 16, 0, 14, 0, 13, 0, 14, 0, 0, 1, 16, 0, 18, 21, 0, 0, 1, 14, 0, 18, 0, 21, 0, 0, 1, 14, 0, 16, 0, 21, 0, 0, 1, 26, 25, 30, 0, 26, 0, 1, 0, 23, 0, 23, 1, 25, 30, 0, 1, 24, 0, 0, 1, 14, 21, 0, 0, 1, 23, 23, 22, 0, 19, 21, 0, 0, 1, 14, 0, 18, 0, 21, 0, 0, 19, 0, 23, 26, 0, 22, 23, 0, 0, 14, 0, 11, 0, 14, 0]\n",
      "Generated sequence: [14, 1, 18, 0, 16, 0, 16, 21, 21, 0, 19, 0, 0, 22, 0, 14, 0, 0, 1, 19, 0, 26, 1, 23, 0, 1, 23, 25, 1, 26, 0, 1, 25, 26, 0, 21, 0, 1, 0, 23, 21, 0, 1, 18, 0, 0, 23, 0, 28, 26, 0, 0, 23, 0, 21, 16, 0, 18, 0, 14, 0, 0, 1, 14, 0, 18, 0, 21, 18, 0, 23, 19, 0, 0, 16, 0, 14, 0, 0, 13, 0, 23, 31, 0, 26, 0, 0, 1, 21, 1, 25, 28, 0, 1, 26, 30, 0, 26, 0, 0, 23, 0, 21, 0, 0, 23, 0, 13, 0, 0, 14, 0, 0, 1, 19, 0, 16, 0, 17, 0, 0, 1, 23, 25, 0, 0, 1, 23, 0, 1, 21, 0, 0, 1, 19, 0, 18, 21, 21, 20, 0, 21, 0, 0, 1, 14, 0, 18, 0, 21, 0, 0, 1, 14, 0, 17, 0, 21, 0, 0, 24, 0, 21, 0, 0, 16, 21, 26, 0, 18, 0, 14, 0, 0, 1, 18, 0, 11, 0, 17, 0, 0, 14, 0, 16, 0, 14, 0, 1, 26, 0, 0, 1, 21, 0, 18, 14, 0, 0, 16, 18, 21, 0, 0, 19, 0, 0, 16, 0, 21, 16, 16, 0, 14, 0, 13, 0, 14, 0, 0, 1, 16, 0, 18, 21, 0, 0, 1, 14, 0, 18, 0, 21, 0, 0, 1, 14, 0, 16, 0, 21, 0, 0, 1, 26, 25, 30, 0, 26, 0, 1, 0, 23, 0, 23, 1, 25, 30, 0, 1, 24, 0, 0, 1, 14, 21, 0, 0, 1, 23, 23, 22, 0, 19, 21, 0, 0, 1, 14, 0, 18, 0, 21, 0, 0, 19, 0, 23, 26, 0, 22, 23, 0, 0, 14, 0, 11, 0, 14, 0]\n",
      "INFO:tensorflow:Wrote a melody to /home/andrew/Git/rl_comps/q/\n",
      "INFO:tensorflow:Visualizing note selection probabilities:\n"
     ]
    },
    {
     "data": {
      "image/png": "[encoded data removed]",
      "text/plain": [
       "<matplotlib.figure.Figure at 0x7f0945dfe450>"
      ]
     },
     "metadata": {},
     "output_type": "display_data"
    }
   ],
   "source": [
    "q_rl_net.generate_music_sequence(visualize_probs=True, title='my_q_rl')"
   ]
  },
  {
   "cell_type": "code",
   "execution_count": 9,
   "metadata": {
    "collapsed": false
   },
   "outputs": [
    {
     "name": "stdout",
     "output_type": "stream",
     "text": [
      "INFO:tensorflow:Total compositions: 100.0\n",
      "Total notes:30000.0\n",
      "\tCompositions starting with tonic: 2.0\n",
      "\tCompositions with unique highest note:51.0\n",
      "\tCompositions with unique lowest note:62.0\n",
      "\tNumber of resolved leaps:785.0\n",
      "\tNumber of double leaps:339.0\n",
      "\tNotes not in key:414.0\n",
      "\tNotes in motif:25385.0\n",
      "\tNotes in repeated motif:1501.0\n",
      "\tNotes excessively repeated:0.0\n",
      "\n",
      "\tPercent compositions starting with tonic:0.02\n",
      "\tPercent compositions with unique highest note:0.51\n",
      "\tPercent compositions with unique lowest note:0.62\n",
      "\tPercent of leaps resolved:0.698398576512\n",
      "\tPercent notes not in key:0.0138\n",
      "\tPercent notes in motif:0.846166666667\n",
      "\tPercent notes in repeated motif:0.0500333333333\n",
      "\tPercent notes excessively repeated:0.0\n",
      "\n",
      "\tAverage autocorrelation of lag1:-0.222890636262\n",
      "\tAverage autocorrelation of lag2:0.0409243993087\n",
      "\tAverage autocorrelation of lag3:0.0558027830675\n",
      "\n",
      "\tAvg. num octave jumps per composition:0.22\n",
      "\tAvg. num sevenths per composition:0.41\n",
      "\tAvg. num fifths per composition:3.57\n",
      "\tAvg. num sixths per composition:3.18\n",
      "\tAvg. num fourths per composition:20.88\n",
      "\tAvg. num rest intervals per composition:56.18\n",
      "\tAvg. num seconds per composition:34.38\n",
      "\tAvg. num thirds per composition:5.2\n",
      "\tAvg. num in key preferred intervals per composition:8.81\n",
      "\tAvg. num special rest intervals per composition:68.42\n",
      "\n",
      "\n",
      "Total compositions: 100.0\n",
      "Total notes:30000.0\n",
      "\tCompositions starting with tonic: 2.0\n",
      "\tCompositions with unique highest note:51.0\n",
      "\tCompositions with unique lowest note:62.0\n",
      "\tNumber of resolved leaps:785.0\n",
      "\tNumber of double leaps:339.0\n",
      "\tNotes not in key:414.0\n",
      "\tNotes in motif:25385.0\n",
      "\tNotes in repeated motif:1501.0\n",
      "\tNotes excessively repeated:0.0\n",
      "\n",
      "\tPercent compositions starting with tonic:0.02\n",
      "\tPercent compositions with unique highest note:0.51\n",
      "\tPercent compositions with unique lowest note:0.62\n",
      "\tPercent of leaps resolved:0.698398576512\n",
      "\tPercent notes not in key:0.0138\n",
      "\tPercent notes in motif:0.846166666667\n",
      "\tPercent notes in repeated motif:0.0500333333333\n",
      "\tPercent notes excessively repeated:0.0\n",
      "\n",
      "\tAverage autocorrelation of lag1:-0.222890636262\n",
      "\tAverage autocorrelation of lag2:0.0409243993087\n",
      "\tAverage autocorrelation of lag3:0.0558027830675\n",
      "\n",
      "\tAvg. num octave jumps per composition:0.22\n",
      "\tAvg. num sevenths per composition:0.41\n",
      "\tAvg. num fifths per composition:3.57\n",
      "\tAvg. num sixths per composition:3.18\n",
      "\tAvg. num fourths per composition:20.88\n",
      "\tAvg. num rest intervals per composition:56.18\n",
      "\tAvg. num seconds per composition:34.38\n",
      "\tAvg. num thirds per composition:5.2\n",
      "\tAvg. num in key preferred intervals per composition:8.81\n",
      "\tAvg. num special rest intervals per composition:68.42\n",
      "\n",
      "\n",
      "INFO:tensorflow:{'num_repeated_notes': 0, 'autocorrelation1': [-0.23965417376682321, -0.32180419725577969, -0.22757507654328804, -0.32009277031458366, -0.25329058509891961, -0.24251016970662329, -0.22670283604849012, -0.29391557826825221, -0.19554078738107381, -0.2841420556137863, -0.1674434091395223, -0.10475295564949524, -0.26792102397000844, -0.25401551274715489, -0.26018496629388088, -0.19918256180831798, -0.27988891617034417, -0.24367377345865127, -0.2029615832784179, -0.18054465747450388, -0.22885306881587106, -0.29642753411003353, -0.27680830943732282, -0.23046429559037282, -0.29680050125700758, -0.20877707204607751, -0.17375986046224429, -0.18489374506101319, -0.20953147557952659, -0.23019722703833997, -0.28606280397251738, -0.24841461669097128, -0.24859135185555331, -0.30167432823022833, -0.1664218510219167, -0.28353004596301135, -0.32219660094188429, -0.12834024436378941, -0.24966236532940991, -0.26360716128349232, -0.14137974913739096, -0.19905193386434647, -0.24340055420365014, -0.28184204342319336, -0.25192085767685757, -0.25877689626859918, -0.1767744042951927, -0.067000219252053198, -0.27233306869486168, -0.20632254597735794, -0.16999994191622722, -0.19482667644280682, -0.21217243350547196, -0.14323496415095902, -0.22646576253888695, -0.18264366356940448, -0.18515249142148507, -0.21908962565066209, -0.2897080185140225, -0.23619763142350256, -0.21553239439606531, -0.16995282172937279, -0.1457952264853852, -0.21040100170008985, -0.25686856880968134, -0.24585067844818209, -0.22839387647456938, -0.11984886178694133, -0.19224559826118717, -0.23393025538876028, -0.16679557023971997, -0.25335198496290717, -0.28068512237840137, -0.18503738137572029, -0.20564651496116884, -0.28119225217435395, -0.19538830659183135, -0.27750730779823751, -0.24780386920042161, -0.23382706156805177, -0.19032827322967813, -0.13401935058245873, -0.16206017442836718, -0.2210946500406277, -0.30769028046038704, -0.18245377231681259, -0.20487315359767827, -0.078744979200055035, -0.19045701080709035, -0.20402576926025967, -0.17077951990314305, -0.2987724283778872, -0.26103768832715113, -0.21320837554207314, -0.30583624067722665, -0.26002660989888238, -0.17800715461273992, -0.20844017394542741, -0.25946573353635538, -0.15258210178819706], 'num_sevenths': 41, 'autocorrelation3': [0.1219850806764676, 0.11317290150004233, -0.05197556038527136, 0.022506298499576277, 0.056328609513119125, -0.099190587170148711, 0.17254296463329194, 0.13769342338927387, 0.062131299092171716, 0.057155188359331643, 0.038540337721542417, 0.0017408030301411931, 0.14662646678918251, 0.00069664314323860646, 0.043614752401463515, 0.036920254322266421, 0.053101927595176152, 0.096348304805562959, 0.15208736375360912, 0.049911395919513366, 0.097641279984739413, 0.17361366253335128, 0.12287143693379529, 0.12592874371532917, 0.12945724069870213, 0.12708332831591751, 0.10258453584945419, 0.1386762090924126, 0.071231238593337173, 0.018380325550861026, 0.023363917413396763, 0.14150513466066156, 0.050193164101539067, -0.034598210529972626, 0.0066428340715505461, 0.097089008258339687, 0.064499955234605111, 0.065284405386222683, 0.18036264302649208, 0.032156663117907783, 0.10097666020184133, 0.13697995470484181, 0.075179994181503104, 0.055170962212857569, -0.022343403710469043, -0.1011708872340209, 0.068942202562480084, -0.046431484426161268, 0.013342916069782013, -0.026162315930175234, 0.036330768208718216, 0.10990603106674587, 0.009141310043908054, 0.14511922152324011, 0.10363996291379864, -0.043081758957288767, 0.031583303304473148, 0.021307692186958594, 0.18370261666392931, -0.16340410915629613, 0.18661083962506606, 0.086481877979544902, 0.020111560131447256, 0.14085298717222183, 0.056719923732654325, 0.055609115413449907, 0.12925979320848494, 0.084599912636630276, -0.053457205922780741, 0.046392838843840177, 0.056369528230064754, 0.061374898977559662, 0.080067982154344908, -0.0057871276131528666, 0.14536448906945829, 0.023464987674504108, -0.11837251324516995, -0.01554318625689342, 0.034096862931229995, 0.1325687900795427, 0.018976500444890881, 0.024579046855611991, 0.034026920522655095, 0.095259701158785792, 0.13360065631140691, 0.065626163231543397, 0.083413723201942236, 0.17536314610993725, 0.11755430679815385, 0.071828621784107094, -0.061369264928134763, -0.19035621055414204, 0.1470742318083986, 0.065568781237372642, 0.015228473997695682, -0.048819850984566253, 0.078999755080684242, 0.068561081876088795, -0.096915130562599788, 0.0006562785099271741], 'autocorrelation2': [0.032074997193144855, 0.04482265380777678, 0.072628222075941759, 0.093064855635547103, -0.00051410130489687564, 0.12237397369887054, -0.014427520915636831, 0.056515806111636945, 0.071762509778125427, 0.11612923114865281, 0.1014616031502486, 0.028462711271359683, 0.062897846243659516, 0.14813433784728847, 0.033515710960136599, -0.00058879057347391436, 0.030604361841424628, 0.090292026212266743, -0.096269650683347002, -0.0047140641730707882, 0.028153941532738824, -0.023826403028170552, -0.040576180076879735, -0.023782680534520546, 0.033984795662185756, 0.0038689555963329928, 0.075518964094180047, -0.016615734482768388, 0.11361390318977962, 0.084915021237676802, 0.11310143196858939, 0.011379056509598091, 0.0060937304284096206, 0.11805462556000289, 0.046912913120180331, 0.089800558467034719, 0.072856320427380689, -0.028692454023234015, 0.015191673460717887, 0.069643487643981733, -0.08030348701051726, 0.0029674648531935362, 0.1271753964872932, 0.10654454597394367, 0.12152483821402368, 0.15353641202164059, 0.066409822091260479, 0.064908674848000253, 0.075256903860210042, 0.12318323964467499, -0.043228107318482763, 0.0048881987040404525, -0.028528460795821237, -0.097636952666546845, 0.002519450504768882, -0.0062795969028127717, 0.062308112337154289, 0.13076303963918098, -0.016152750591682398, 0.14586457855925805, -0.081236795554561078, 0.051495199987812552, -0.038842944426395916, -0.030172080873942665, 0.0084880473043475058, 0.038992199705843618, 0.036543838135525898, -0.053388151035726701, -0.0072197139184217579, 0.063282181840133817, -0.017178380666235182, -0.010867332882204235, 0.056111887057584436, 0.099040153909674897, 0.081953497054541663, 0.095247334104600845, 0.10105553692116019, 0.099695452467169224, 0.071207670170096313, 0.038043720969941089, 0.064876713880295298, 0.12962714455729404, 0.056961975490682284, 0.031490196830345478, -0.017044958822142769, 0.068556688150547995, 0.0043645678950155484, -0.015603561554553367, -0.12268075176787091, -0.021799895678881076, 0.016571074361318577, 0.13962594587450022, 0.02071896322754958, 0.074382932296351345, 0.14575802885013053, 0.03000000000000002, 0.069775485988574137, 0.017844878666869533, 0.10817400502102413, 0.035045208804378274], 'notes_not_in_key': 414, 'num_fourths': 2088, 'num_rest_intervals': 5618, 'num_sixths': 318, 'num_fifths': 357, 'notes_in_motif': 25385, 'num_special_rest_intervals': 6842, 'num_octave_jumps': 22, 'num_leap_twice': 339, 'num_in_key_preferred_intervals': 881, 'num_compositions': 100, 'total_notes': 30000, 'num_thirds': 520, 'notes_in_repeated_motif': 1501, 'num_starting_tonic': 2, 'num_high_unique': 51, 'num_resolved_leaps': 785, 'num_low_unique': 62, 'num_seconds': 3438}\n"
     ]
    }
   ],
   "source": [
    "# Compute statistics about how well the model adheres to the music theory rules.\n",
    "q_stat_dict = q_rl_net.evaluate_music_theory_metrics(num_compositions=100)"
   ]
  },
  {
   "cell_type": "code",
   "execution_count": null,
   "metadata": {
    "collapsed": true
   },
   "outputs": [],
   "source": []
  }
 ],
 "metadata": {
  "kernelspec": {
   "display_name": "Python 2",
   "language": "python",
   "name": "python2"
  },
  "language_info": {
   "codemirror_mode": {
    "name": "ipython",
    "version": 2
   },
   "file_extension": ".py",
   "mimetype": "text/x-python",
   "name": "python",
   "nbconvert_exporter": "python",
   "pygments_lexer": "ipython2",
   "version": "2.7.12"
  }
 },
 "nbformat": 4,
 "nbformat_minor": 2
}
