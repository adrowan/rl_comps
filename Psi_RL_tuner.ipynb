{
 "cells": [
  {
   "cell_type": "code",
   "execution_count": 16,
   "metadata": {
    "collapsed": true
   },
   "outputs": [],
   "source": [
    "import tensorflow as tf\n",
    "import numpy as np\n",
    "import sys\n",
    "\n",
    "from magenta.common import tf_lib"
   ]
  },
  {
   "cell_type": "code",
   "execution_count": 17,
   "metadata": {
    "collapsed": true
   },
   "outputs": [],
   "source": [
    "from magenta.models.rl_tuner import rl_tuner\n",
    "from magenta.models.rl_tuner import rl_tuner_ops"
   ]
  },
  {
   "cell_type": "code",
   "execution_count": 9,
   "metadata": {
    "collapsed": false
   },
   "outputs": [],
   "source": [
    "rl_tuner_hparams = tf_lib.HParams(random_action_probability=0.1,    \n",
    "                               store_every_nth=1,\n",
    "                               train_every_nth=5,\n",
    "                               minibatch_size=32,\n",
    "                               discount_rate=0.5,\n",
    "                               max_experience=100000,\n",
    "                               target_network_update_rate=0.01)"
   ]
  },
  {
   "cell_type": "code",
   "execution_count": 10,
   "metadata": {
    "collapsed": true
   },
   "outputs": [],
   "source": [
    "SAVE_PATH = \"/home/andrew/Git/rl_comps/psi/\""
   ]
  },
  {
   "cell_type": "code",
   "execution_count": 11,
   "metadata": {
    "collapsed": true
   },
   "outputs": [],
   "source": [
    "# Model parameter settings\n",
    "ALGORITHM = 'psi'\n",
    "REWARD_SCALER = 1.0 # The weight placed on music theory rewards, i.e. r_MT * reward_scalar. \n",
    "OUTPUT_EVERY_NTH = 50000 # The number of steps before the model evaluates itself and stores a checkpoint\n",
    "NUM_NOTES_IN_COMPOSITION = 300\n",
    "PRIME_WITH_MIDI = False"
   ]
  },
  {
   "cell_type": "code",
   "execution_count": 12,
   "metadata": {
    "collapsed": false
   },
   "outputs": [
    {
     "name": "stdout",
     "output_type": "stream",
     "text": [
      "Retrieving checkpoint of Note RNN from Magenta download server.\n",
      "INFO:tensorflow:Initializing q network\n",
      "INFO:tensorflow:Using custom hparams\n",
      "INFO:tensorflow:Initializing melody RNN graph for scope q_network\n",
      "WARNING:tensorflow:<tensorflow.python.ops.rnn_cell.LSTMCell object at 0x7fd7d75084d0>: Using a concatenated state is slower and will soon be deprecated.  Use state_is_tuple=True.\n",
      "WARNING:tensorflow:From /home/andrew/anaconda3/envs/magenta/lib/python2.7/site-packages/magenta/models/rl_tuner/rl_tuner_ops.py:262 in get_variable_names.: all_variables (from tensorflow.python.ops.variables) is deprecated and will be removed after 2017-03-02.\n",
      "Instructions for updating:\n",
      "Please use tf.global_variables instead.\n",
      "INFO:tensorflow:Initializing target q network\n",
      "INFO:tensorflow:Using custom hparams\n",
      "INFO:tensorflow:Initializing melody RNN graph for scope target_q_network\n",
      "WARNING:tensorflow:<tensorflow.python.ops.rnn_cell.LSTMCell object at 0x7fd7d382fe10>: Using a concatenated state is slower and will soon be deprecated.  Use state_is_tuple=True.\n",
      "WARNING:tensorflow:From /home/andrew/anaconda3/envs/magenta/lib/python2.7/site-packages/magenta/models/rl_tuner/rl_tuner_ops.py:262 in get_variable_names.: all_variables (from tensorflow.python.ops.variables) is deprecated and will be removed after 2017-03-02.\n",
      "Instructions for updating:\n",
      "Please use tf.global_variables instead.\n",
      "INFO:tensorflow:Initializing reward network\n",
      "INFO:tensorflow:Using custom hparams\n",
      "INFO:tensorflow:Initializing melody RNN graph for scope reward_rnn\n",
      "WARNING:tensorflow:<tensorflow.python.ops.rnn_cell.LSTMCell object at 0x7fd7d35d8f90>: Using a concatenated state is slower and will soon be deprecated.  Use state_is_tuple=True.\n",
      "WARNING:tensorflow:From /home/andrew/anaconda3/envs/magenta/lib/python2.7/site-packages/magenta/models/rl_tuner/rl_tuner_ops.py:262 in get_variable_names.: all_variables (from tensorflow.python.ops.variables) is deprecated and will be removed after 2017-03-02.\n",
      "Instructions for updating:\n",
      "Please use tf.global_variables instead.\n",
      "INFO:tensorflow:Q network cell: <tensorflow.python.ops.rnn_cell.MultiRNNCell object at 0x7fd7d7508390>\n",
      "INFO:tensorflow:Adding RL graph variables\n",
      "INFO:tensorflow:Adding reward computation portion of the graph\n",
      "INFO:tensorflow:Adding taking action portion of graph\n",
      "WARNING:tensorflow:From /home/andrew/anaconda3/envs/magenta/lib/python2.7/site-packages/magenta/models/rl_tuner/rl_tuner.py:426 in build_graph.: histogram_summary (from tensorflow.python.ops.logging_ops) is deprecated and will be removed after 2016-11-30.\n",
      "Instructions for updating:\n",
      "Please switch to tf.summary.histogram. Note that tf.summary.histogram uses the node name instead of the tag. This means that TensorFlow will automatically de-duplicate summary names based on their scope.\n",
      "INFO:tensorflow:Add estimating future rewards portion of graph\n",
      "WARNING:tensorflow:From /home/andrew/anaconda3/envs/magenta/lib/python2.7/site-packages/magenta/models/rl_tuner/rl_tuner.py:454 in build_graph.: histogram_summary (from tensorflow.python.ops.logging_ops) is deprecated and will be removed after 2016-11-30.\n",
      "Instructions for updating:\n",
      "Please switch to tf.summary.histogram. Note that tf.summary.histogram uses the node name instead of the tag. This means that TensorFlow will automatically de-duplicate summary names based on their scope.\n",
      "INFO:tensorflow:Adding q value prediction portion of graph\n",
      "WARNING:tensorflow:From /home/andrew/anaconda3/envs/magenta/lib/python2.7/site-packages/magenta/models/rl_tuner/rl_tuner.py:509 in build_graph.: histogram_summary (from tensorflow.python.ops.logging_ops) is deprecated and will be removed after 2016-11-30.\n",
      "Instructions for updating:\n",
      "Please switch to tf.summary.histogram. Note that tf.summary.histogram uses the node name instead of the tag. This means that TensorFlow will automatically de-duplicate summary names based on their scope.\n",
      "WARNING:tensorflow:From /home/andrew/anaconda3/envs/magenta/lib/python2.7/site-packages/magenta/models/rl_tuner/rl_tuner.py:511 in build_graph.: histogram_summary (from tensorflow.python.ops.logging_ops) is deprecated and will be removed after 2016-11-30.\n",
      "Instructions for updating:\n",
      "Please switch to tf.summary.histogram. Note that tf.summary.histogram uses the node name instead of the tag. This means that TensorFlow will automatically de-duplicate summary names based on their scope.\n",
      "WARNING:tensorflow:From /home/andrew/anaconda3/envs/magenta/lib/python2.7/site-packages/magenta/models/rl_tuner/rl_tuner.py:509 in build_graph.: histogram_summary (from tensorflow.python.ops.logging_ops) is deprecated and will be removed after 2016-11-30.\n",
      "Instructions for updating:\n",
      "Please switch to tf.summary.histogram. Note that tf.summary.histogram uses the node name instead of the tag. This means that TensorFlow will automatically de-duplicate summary names based on their scope.\n",
      "WARNING:tensorflow:From /home/andrew/anaconda3/envs/magenta/lib/python2.7/site-packages/magenta/models/rl_tuner/rl_tuner.py:511 in build_graph.: histogram_summary (from tensorflow.python.ops.logging_ops) is deprecated and will be removed after 2016-11-30.\n",
      "Instructions for updating:\n",
      "Please switch to tf.summary.histogram. Note that tf.summary.histogram uses the node name instead of the tag. This means that TensorFlow will automatically de-duplicate summary names based on their scope.\n",
      "WARNING:tensorflow:From /home/andrew/anaconda3/envs/magenta/lib/python2.7/site-packages/magenta/models/rl_tuner/rl_tuner.py:509 in build_graph.: histogram_summary (from tensorflow.python.ops.logging_ops) is deprecated and will be removed after 2016-11-30.\n",
      "Instructions for updating:\n",
      "Please switch to tf.summary.histogram. Note that tf.summary.histogram uses the node name instead of the tag. This means that TensorFlow will automatically de-duplicate summary names based on their scope.\n",
      "WARNING:tensorflow:From /home/andrew/anaconda3/envs/magenta/lib/python2.7/site-packages/magenta/models/rl_tuner/rl_tuner.py:511 in build_graph.: histogram_summary (from tensorflow.python.ops.logging_ops) is deprecated and will be removed after 2016-11-30.\n",
      "Instructions for updating:\n",
      "Please switch to tf.summary.histogram. Note that tf.summary.histogram uses the node name instead of the tag. This means that TensorFlow will automatically de-duplicate summary names based on their scope.\n",
      "WARNING:tensorflow:From /home/andrew/anaconda3/envs/magenta/lib/python2.7/site-packages/magenta/models/rl_tuner/rl_tuner.py:509 in build_graph.: histogram_summary (from tensorflow.python.ops.logging_ops) is deprecated and will be removed after 2016-11-30.\n",
      "Instructions for updating:\n",
      "Please switch to tf.summary.histogram. Note that tf.summary.histogram uses the node name instead of the tag. This means that TensorFlow will automatically de-duplicate summary names based on their scope.\n",
      "WARNING:tensorflow:From /home/andrew/anaconda3/envs/magenta/lib/python2.7/site-packages/magenta/models/rl_tuner/rl_tuner.py:511 in build_graph.: histogram_summary (from tensorflow.python.ops.logging_ops) is deprecated and will be removed after 2016-11-30.\n",
      "Instructions for updating:\n",
      "Please switch to tf.summary.histogram. Note that tf.summary.histogram uses the node name instead of the tag. This means that TensorFlow will automatically de-duplicate summary names based on their scope.\n",
      "WARNING:tensorflow:From /home/andrew/anaconda3/envs/magenta/lib/python2.7/site-packages/magenta/models/rl_tuner/rl_tuner.py:509 in build_graph.: histogram_summary (from tensorflow.python.ops.logging_ops) is deprecated and will be removed after 2016-11-30.\n",
      "Instructions for updating:\n",
      "Please switch to tf.summary.histogram. Note that tf.summary.histogram uses the node name instead of the tag. This means that TensorFlow will automatically de-duplicate summary names based on their scope.\n",
      "WARNING:tensorflow:From /home/andrew/anaconda3/envs/magenta/lib/python2.7/site-packages/magenta/models/rl_tuner/rl_tuner.py:509 in build_graph.: histogram_summary (from tensorflow.python.ops.logging_ops) is deprecated and will be removed after 2016-11-30.\n",
      "Instructions for updating:\n",
      "Please switch to tf.summary.histogram. Note that tf.summary.histogram uses the node name instead of the tag. This means that TensorFlow will automatically de-duplicate summary names based on their scope.\n",
      "WARNING:tensorflow:From /home/andrew/anaconda3/envs/magenta/lib/python2.7/site-packages/magenta/models/rl_tuner/rl_tuner.py:509 in build_graph.: histogram_summary (from tensorflow.python.ops.logging_ops) is deprecated and will be removed after 2016-11-30.\n",
      "Instructions for updating:\n",
      "Please switch to tf.summary.histogram. Note that tf.summary.histogram uses the node name instead of the tag. This means that TensorFlow will automatically de-duplicate summary names based on their scope.\n",
      "WARNING:tensorflow:From /home/andrew/anaconda3/envs/magenta/lib/python2.7/site-packages/magenta/models/rl_tuner/rl_tuner.py:509 in build_graph.: histogram_summary (from tensorflow.python.ops.logging_ops) is deprecated and will be removed after 2016-11-30.\n",
      "Instructions for updating:\n",
      "Please switch to tf.summary.histogram. Note that tf.summary.histogram uses the node name instead of the tag. This means that TensorFlow will automatically de-duplicate summary names based on their scope.\n",
      "WARNING:tensorflow:From /home/andrew/anaconda3/envs/magenta/lib/python2.7/site-packages/magenta/models/rl_tuner/rl_tuner.py:509 in build_graph.: histogram_summary (from tensorflow.python.ops.logging_ops) is deprecated and will be removed after 2016-11-30.\n",
      "Instructions for updating:\n",
      "Please switch to tf.summary.histogram. Note that tf.summary.histogram uses the node name instead of the tag. This means that TensorFlow will automatically de-duplicate summary names based on their scope.\n",
      "WARNING:tensorflow:From /home/andrew/anaconda3/envs/magenta/lib/python2.7/site-packages/magenta/models/rl_tuner/rl_tuner.py:509 in build_graph.: histogram_summary (from tensorflow.python.ops.logging_ops) is deprecated and will be removed after 2016-11-30.\n",
      "Instructions for updating:\n",
      "Please switch to tf.summary.histogram. Note that tf.summary.histogram uses the node name instead of the tag. This means that TensorFlow will automatically de-duplicate summary names based on their scope.\n",
      "WARNING:tensorflow:From /home/andrew/anaconda3/envs/magenta/lib/python2.7/site-packages/magenta/models/rl_tuner/rl_tuner.py:509 in build_graph.: histogram_summary (from tensorflow.python.ops.logging_ops) is deprecated and will be removed after 2016-11-30.\n",
      "Instructions for updating:\n",
      "Please switch to tf.summary.histogram. Note that tf.summary.histogram uses the node name instead of the tag. This means that TensorFlow will automatically de-duplicate summary names based on their scope.\n",
      "WARNING:tensorflow:From /home/andrew/anaconda3/envs/magenta/lib/python2.7/site-packages/magenta/models/rl_tuner/rl_tuner.py:509 in build_graph.: histogram_summary (from tensorflow.python.ops.logging_ops) is deprecated and will be removed after 2016-11-30.\n",
      "Instructions for updating:\n",
      "Please switch to tf.summary.histogram. Note that tf.summary.histogram uses the node name instead of the tag. This means that TensorFlow will automatically de-duplicate summary names based on their scope.\n",
      "INFO:tensorflow:Adding target network update portion of graph\n",
      "WARNING:tensorflow:From /home/andrew/anaconda3/envs/magenta/lib/python2.7/site-packages/magenta/models/rl_tuner/note_rnn_loader.py:420 in variables.: all_variables (from tensorflow.python.ops.variables) is deprecated and will be removed after 2017-03-02.\n",
      "Instructions for updating:\n",
      "Please use tf.global_variables instead.\n",
      "WARNING:tensorflow:From /home/andrew/anaconda3/envs/magenta/lib/python2.7/site-packages/magenta/models/rl_tuner/note_rnn_loader.py:420 in variables.: all_variables (from tensorflow.python.ops.variables) is deprecated and will be removed after 2017-03-02.\n",
      "Instructions for updating:\n",
      "Please use tf.global_variables instead.\n",
      "WARNING:tensorflow:From /home/andrew/anaconda3/envs/magenta/lib/python2.7/site-packages/magenta/models/rl_tuner/rl_tuner.py:530 in build_graph.: scalar_summary (from tensorflow.python.ops.logging_ops) is deprecated and will be removed after 2016-11-30.\n",
      "Instructions for updating:\n",
      "Please switch to tf.summary.scalar. Note that tf.summary.scalar uses the node name instead of the tag. This means that TensorFlow will automatically de-duplicate summary names based on the scope they are created in. Also, passing a tensor or list of tags to a scalar summary op is no longer supported.\n",
      "WARNING:tensorflow:From /home/andrew/anaconda3/envs/magenta/lib/python2.7/site-packages/magenta/models/rl_tuner/rl_tuner.py:532 in build_graph.: merge_all_summaries (from tensorflow.python.ops.logging_ops) is deprecated and will be removed after 2016-11-30.\n",
      "Instructions for updating:\n",
      "Please switch to tf.summary.merge_all.\n",
      "WARNING:tensorflow:From /home/andrew/anaconda3/envs/magenta/lib/python2.7/site-packages/tensorflow/python/ops/logging_ops.py:264 in merge_all_summaries.: merge_summary (from tensorflow.python.ops.logging_ops) is deprecated and will be removed after 2016-11-30.\n",
      "Instructions for updating:\n",
      "Please switch to tf.summary.merge.\n",
      "WARNING:tensorflow:From /home/andrew/anaconda3/envs/magenta/lib/python2.7/site-packages/magenta/models/rl_tuner/rl_tuner.py:296 in initialize_internal_models_graph_session.: initialize_all_variables (from tensorflow.python.ops.variables) is deprecated and will be removed after 2017-03-02.\n",
      "Instructions for updating:\n",
      "Use `tf.global_variables_initializer` instead.\n",
      "INFO:tensorflow:Restoring variables from checkpoint\n",
      "WARNING:tensorflow:From /home/andrew/anaconda3/envs/magenta/lib/python2.7/site-packages/magenta/models/rl_tuner/note_rnn_loader.py:420 in variables.: all_variables (from tensorflow.python.ops.variables) is deprecated and will be removed after 2017-03-02.\n",
      "Instructions for updating:\n",
      "Please use tf.global_variables instead.\n",
      "INFO:tensorflow:Checkpoint dir: /home/andrew/Git/rl_comps\n",
      "WARNING:tensorflow:Can't find checkpoint file, using /home/andrew/Git/rl_comps/note_rnn.ckpt\n",
      "INFO:tensorflow:Checkpoint file: /home/andrew/Git/rl_comps/note_rnn.ckpt\n",
      "INFO:tensorflow:Restoring variables from checkpoint\n",
      "WARNING:tensorflow:From /home/andrew/anaconda3/envs/magenta/lib/python2.7/site-packages/magenta/models/rl_tuner/note_rnn_loader.py:420 in variables.: all_variables (from tensorflow.python.ops.variables) is deprecated and will be removed after 2017-03-02.\n",
      "Instructions for updating:\n",
      "Please use tf.global_variables instead.\n",
      "INFO:tensorflow:Checkpoint dir: /home/andrew/Git/rl_comps\n",
      "WARNING:tensorflow:Can't find checkpoint file, using /home/andrew/Git/rl_comps/note_rnn.ckpt\n",
      "INFO:tensorflow:Checkpoint file: /home/andrew/Git/rl_comps/note_rnn.ckpt\n",
      "INFO:tensorflow:Restoring variables from checkpoint\n",
      "WARNING:tensorflow:From /home/andrew/anaconda3/envs/magenta/lib/python2.7/site-packages/magenta/models/rl_tuner/note_rnn_loader.py:420 in variables.: all_variables (from tensorflow.python.ops.variables) is deprecated and will be removed after 2017-03-02.\n",
      "Instructions for updating:\n",
      "Please use tf.global_variables instead.\n",
      "INFO:tensorflow:Checkpoint dir: /home/andrew/Git/rl_comps\n",
      "WARNING:tensorflow:Can't find checkpoint file, using /home/andrew/Git/rl_comps/note_rnn.ckpt\n",
      "INFO:tensorflow:Checkpoint file: /home/andrew/Git/rl_comps/note_rnn.ckpt\n",
      "WARNING:tensorflow:From /home/andrew/anaconda3/envs/magenta/lib/python2.7/site-packages/magenta/models/rl_tuner/note_rnn_loader.py:420 in variables.: all_variables (from tensorflow.python.ops.variables) is deprecated and will be removed after 2017-03-02.\n",
      "Instructions for updating:\n",
      "Please use tf.global_variables instead.\n",
      "WARNING:tensorflow:From /home/andrew/anaconda3/envs/magenta/lib/python2.7/site-packages/magenta/models/rl_tuner/note_rnn_loader.py:420 in variables.: all_variables (from tensorflow.python.ops.variables) is deprecated and will be removed after 2017-03-02.\n",
      "Instructions for updating:\n",
      "Please use tf.global_variables instead.\n",
      "\n",
      "Successfully initialized internal nets from checkpoint!\n",
      "INFO:tensorflow:\n",
      "Successfully initialized internal nets from checkpoint!\n"
     ]
    }
   ],
   "source": [
    "psi_rl_net = rl_tuner.RLTuner(SAVE_PATH, \n",
    "                          dqn_hparams=rl_tuner_hparams, \n",
    "                          algorithm=ALGORITHM,\n",
    "                          reward_scaler=REWARD_SCALER,\n",
    "                          output_every_nth=OUTPUT_EVERY_NTH,\n",
    "                          num_notes_in_melody=NUM_NOTES_IN_COMPOSITION)"
   ]
  },
  {
   "cell_type": "code",
   "execution_count": 13,
   "metadata": {
    "collapsed": false
   },
   "outputs": [
    {
     "name": "stdout",
     "output_type": "stream",
     "text": [
      "Attempting to restore from checkpoint /home/andrew/Git/rl_comps/psi/psi.ckpt-950000\n",
      "INFO:tensorflow:Attempting to restore from checkpoint /home/andrew/Git/rl_comps/psi/psi.ckpt-950000\n"
     ]
    }
   ],
   "source": [
    "psi_rl_net.restore_from_directory(directory=SAVE_PATH, checkpoint_name=\"psi.ckpt-950000\")"
   ]
  },
  {
   "cell_type": "code",
   "execution_count": 14,
   "metadata": {
    "collapsed": false
   },
   "outputs": [
    {
     "name": "stdout",
     "output_type": "stream",
     "text": [
      "INFO:tensorflow:Priming with note 31\n",
      "INFO:tensorflow:Generated sequence: [0, 0, 30, 0, 0, 21, 0, 0, 21, 0, 0, 21, 0, 21, 0, 0, 26, 0, 0, 24, 0, 0, 18, 0, 21, 0, 0, 27, 0, 26, 0, 25, 0, 27, 0, 30, 0, 0, 21, 0, 0, 21, 0, 0, 16, 0, 30, 0, 0, 24, 0, 0, 21, 0, 18, 0, 16, 21, 0, 18, 0, 0, 9, 0, 0, 25, 0, 25, 25, 0, 0, 16, 0, 25, 0, 9, 0, 0, 16, 0, 33, 0, 0, 18, 0, 18, 0, 25, 0, 21, 0, 0, 25, 0, 27, 0, 0, 25, 21, 0, 0, 21, 0, 0, 25, 0, 0, 30, 0, 30, 0, 25, 0, 0, 26, 0, 0, 21, 0, 0, 30, 0, 26, 0, 0, 33, 0, 25, 0, 0, 26, 0, 25, 0, 0, 26, 0, 0, 21, 0, 34, 0, 30, 0, 26, 0, 18, 0, 26, 0, 0, 25, 0, 0, 28, 0, 14, 0, 16, 0, 19, 0, 27, 0, 30, 0, 21, 0, 0, 24, 0, 26, 0, 0, 26, 0, 0, 14, 0, 0, 18, 0, 18, 0, 25, 0, 26, 0, 28, 0, 25, 0, 26, 0, 0, 25, 0, 0, 27, 0, 0, 18, 0, 0, 24, 0, 0, 21, 0, 0, 15, 0, 27, 0, 0, 26, 0, 0, 26, 0, 21, 0, 0, 26, 26, 0, 0, 26, 0, 7, 18, 0, 0, 16, 0, 19, 0, 9, 0, 0, 9, 0, 0, 11, 0, 0, 16, 0, 11, 0, 16, 0, 26, 0, 16, 0, 8, 0, 0, 7, 0, 0, 9, 0, 0, 9, 0, 11, 0, 15, 0, 21, 0, 11, 9, 0, 0, 9, 0, 7, 0, 9, 0, 9, 0, 11, 11, 0, 0, 19, 0, 9, 0, 0, 8, 0, 9, 0, 0, 9]\n",
      "Generated sequence: [0, 0, 30, 0, 0, 21, 0, 0, 21, 0, 0, 21, 0, 21, 0, 0, 26, 0, 0, 24, 0, 0, 18, 0, 21, 0, 0, 27, 0, 26, 0, 25, 0, 27, 0, 30, 0, 0, 21, 0, 0, 21, 0, 0, 16, 0, 30, 0, 0, 24, 0, 0, 21, 0, 18, 0, 16, 21, 0, 18, 0, 0, 9, 0, 0, 25, 0, 25, 25, 0, 0, 16, 0, 25, 0, 9, 0, 0, 16, 0, 33, 0, 0, 18, 0, 18, 0, 25, 0, 21, 0, 0, 25, 0, 27, 0, 0, 25, 21, 0, 0, 21, 0, 0, 25, 0, 0, 30, 0, 30, 0, 25, 0, 0, 26, 0, 0, 21, 0, 0, 30, 0, 26, 0, 0, 33, 0, 25, 0, 0, 26, 0, 25, 0, 0, 26, 0, 0, 21, 0, 34, 0, 30, 0, 26, 0, 18, 0, 26, 0, 0, 25, 0, 0, 28, 0, 14, 0, 16, 0, 19, 0, 27, 0, 30, 0, 21, 0, 0, 24, 0, 26, 0, 0, 26, 0, 0, 14, 0, 0, 18, 0, 18, 0, 25, 0, 26, 0, 28, 0, 25, 0, 26, 0, 0, 25, 0, 0, 27, 0, 0, 18, 0, 0, 24, 0, 0, 21, 0, 0, 15, 0, 27, 0, 0, 26, 0, 0, 26, 0, 21, 0, 0, 26, 26, 0, 0, 26, 0, 7, 18, 0, 0, 16, 0, 19, 0, 9, 0, 0, 9, 0, 0, 11, 0, 0, 16, 0, 11, 0, 16, 0, 26, 0, 16, 0, 8, 0, 0, 7, 0, 0, 9, 0, 0, 9, 0, 11, 0, 15, 0, 21, 0, 11, 9, 0, 0, 9, 0, 7, 0, 9, 0, 9, 0, 11, 11, 0, 0, 19, 0, 9, 0, 0, 8, 0, 9, 0, 0, 9]\n",
      "INFO:tensorflow:Wrote a melody to /home/andrew/Git/rl_comps/psi/\n",
      "INFO:tensorflow:Visualizing note selection probabilities:\n"
     ]
    },
    {
     "data": {
      "image/png": "[encoded data removed]",
      "text/plain": [
       "<matplotlib.figure.Figure at 0x7fd7c1982390>"
      ]
     },
     "metadata": {},
     "output_type": "display_data"
    }
   ],
   "source": [
    "psi_rl_net.generate_music_sequence(visualize_probs=True, title='my_psi_rl')"
   ]
  },
  {
   "cell_type": "code",
   "execution_count": null,
   "metadata": {
    "collapsed": true
   },
   "outputs": [],
   "source": [
    "# Compute statistics about how well the model adheres to the music theory rules.\n",
    "psi_stat_dict = psi_rl_net.evaluate_music_theory_metrics(num_compositions=100)"
   ]
  }
 ],
 "metadata": {
  "kernelspec": {
   "display_name": "Python 2",
   "language": "python",
   "name": "python2"
  },
  "language_info": {
   "codemirror_mode": {
    "name": "ipython",
    "version": 2
   },
   "file_extension": ".py",
   "mimetype": "text/x-python",
   "name": "python",
   "nbconvert_exporter": "python",
   "pygments_lexer": "ipython2",
   "version": "2.7.12"
  }
 },
 "nbformat": 4,
 "nbformat_minor": 2
}
