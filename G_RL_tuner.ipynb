{
 "cells": [
  {
   "cell_type": "code",
   "execution_count": 1,
   "metadata": {
    "collapsed": true
   },
   "outputs": [],
   "source": [
    "import tensorflow as tf\n",
    "import numpy as np\n",
    "import sys\n",
    "\n",
    "from magenta.common import tf_lib"
   ]
  },
  {
   "cell_type": "code",
   "execution_count": 2,
   "metadata": {
    "collapsed": true
   },
   "outputs": [],
   "source": [
    "from magenta.models.rl_tuner import rl_tuner\n",
    "from magenta.models.rl_tuner import rl_tuner_ops"
   ]
  },
  {
   "cell_type": "code",
   "execution_count": 3,
   "metadata": {
    "collapsed": true
   },
   "outputs": [],
   "source": [
    "rl_tuner_hparams = tf_lib.HParams(random_action_probability=0.1,    \n",
    "                               store_every_nth=1,\n",
    "                               train_every_nth=5,\n",
    "                               minibatch_size=32,\n",
    "                               discount_rate=0.5,\n",
    "                               max_experience=100000,\n",
    "                               target_network_update_rate=0.01)"
   ]
  },
  {
   "cell_type": "code",
   "execution_count": 4,
   "metadata": {
    "collapsed": true
   },
   "outputs": [],
   "source": [
    "SAVE_PATH = \"/home/andrew/Git/rl_comps/g/\""
   ]
  },
  {
   "cell_type": "code",
   "execution_count": 5,
   "metadata": {
    "collapsed": true
   },
   "outputs": [],
   "source": [
    "# Model parameter settings\n",
    "ALGORITHM = 'g' # G-Learning: regularises value estimates by penalising deterministic policies early in the learning process (Fox et al 2012)\n",
    "REWARD_SCALER = 1.0 # The weight placed on music theory rewards, i.e. r_MT * reward_scalar. \n",
    "OUTPUT_EVERY_NTH = 50000 # The number of steps before the model evaluates itself and stores a checkpoint\n",
    "NUM_NOTES_IN_COMPOSITION = 300\n",
    "PRIME_WITH_MIDI = False"
   ]
  },
  {
   "cell_type": "code",
   "execution_count": 6,
   "metadata": {
    "collapsed": false
   },
   "outputs": [
    {
     "name": "stdout",
     "output_type": "stream",
     "text": [
      "Retrieving checkpoint of Note RNN from Magenta download server.\n",
      "INFO:tensorflow:Initializing q network\n",
      "INFO:tensorflow:Using custom hparams\n",
      "INFO:tensorflow:Initializing melody RNN graph for scope q_network\n",
      "WARNING:tensorflow:<tensorflow.python.ops.rnn_cell.LSTMCell object at 0x7fbe6a0a4e50>: Using a concatenated state is slower and will soon be deprecated.  Use state_is_tuple=True.\n",
      "WARNING:tensorflow:From /home/andrew/anaconda3/envs/magenta/lib/python2.7/site-packages/magenta/models/rl_tuner/rl_tuner_ops.py:262 in get_variable_names.: all_variables (from tensorflow.python.ops.variables) is deprecated and will be removed after 2017-03-02.\n",
      "Instructions for updating:\n",
      "Please use tf.global_variables instead.\n",
      "INFO:tensorflow:Initializing target q network\n",
      "INFO:tensorflow:Using custom hparams\n",
      "INFO:tensorflow:Initializing melody RNN graph for scope target_q_network\n",
      "WARNING:tensorflow:<tensorflow.python.ops.rnn_cell.LSTMCell object at 0x7fbe65f4f710>: Using a concatenated state is slower and will soon be deprecated.  Use state_is_tuple=True.\n",
      "WARNING:tensorflow:From /home/andrew/anaconda3/envs/magenta/lib/python2.7/site-packages/magenta/models/rl_tuner/rl_tuner_ops.py:262 in get_variable_names.: all_variables (from tensorflow.python.ops.variables) is deprecated and will be removed after 2017-03-02.\n",
      "Instructions for updating:\n",
      "Please use tf.global_variables instead.\n",
      "INFO:tensorflow:Initializing reward network\n",
      "INFO:tensorflow:Using custom hparams\n",
      "INFO:tensorflow:Initializing melody RNN graph for scope reward_rnn\n",
      "WARNING:tensorflow:<tensorflow.python.ops.rnn_cell.LSTMCell object at 0x7fbe65f4f750>: Using a concatenated state is slower and will soon be deprecated.  Use state_is_tuple=True.\n",
      "WARNING:tensorflow:From /home/andrew/anaconda3/envs/magenta/lib/python2.7/site-packages/magenta/models/rl_tuner/rl_tuner_ops.py:262 in get_variable_names.: all_variables (from tensorflow.python.ops.variables) is deprecated and will be removed after 2017-03-02.\n",
      "Instructions for updating:\n",
      "Please use tf.global_variables instead.\n",
      "INFO:tensorflow:Q network cell: <tensorflow.python.ops.rnn_cell.MultiRNNCell object at 0x7fbe6a0a4310>\n",
      "INFO:tensorflow:Adding RL graph variables\n",
      "INFO:tensorflow:Adding reward computation portion of the graph\n",
      "INFO:tensorflow:Adding taking action portion of graph\n",
      "WARNING:tensorflow:From /home/andrew/anaconda3/envs/magenta/lib/python2.7/site-packages/magenta/models/rl_tuner/rl_tuner.py:426 in build_graph.: histogram_summary (from tensorflow.python.ops.logging_ops) is deprecated and will be removed after 2016-11-30.\n",
      "Instructions for updating:\n",
      "Please switch to tf.summary.histogram. Note that tf.summary.histogram uses the node name instead of the tag. This means that TensorFlow will automatically de-duplicate summary names based on their scope.\n",
      "INFO:tensorflow:Add estimating future rewards portion of graph\n",
      "WARNING:tensorflow:From /home/andrew/anaconda3/envs/magenta/lib/python2.7/site-packages/magenta/models/rl_tuner/rl_tuner.py:454 in build_graph.: histogram_summary (from tensorflow.python.ops.logging_ops) is deprecated and will be removed after 2016-11-30.\n",
      "Instructions for updating:\n",
      "Please switch to tf.summary.histogram. Note that tf.summary.histogram uses the node name instead of the tag. This means that TensorFlow will automatically de-duplicate summary names based on their scope.\n",
      "INFO:tensorflow:Adding q value prediction portion of graph\n",
      "WARNING:tensorflow:From /home/andrew/anaconda3/envs/magenta/lib/python2.7/site-packages/magenta/models/rl_tuner/rl_tuner.py:509 in build_graph.: histogram_summary (from tensorflow.python.ops.logging_ops) is deprecated and will be removed after 2016-11-30.\n",
      "Instructions for updating:\n",
      "Please switch to tf.summary.histogram. Note that tf.summary.histogram uses the node name instead of the tag. This means that TensorFlow will automatically de-duplicate summary names based on their scope.\n",
      "WARNING:tensorflow:From /home/andrew/anaconda3/envs/magenta/lib/python2.7/site-packages/magenta/models/rl_tuner/rl_tuner.py:511 in build_graph.: histogram_summary (from tensorflow.python.ops.logging_ops) is deprecated and will be removed after 2016-11-30.\n",
      "Instructions for updating:\n",
      "Please switch to tf.summary.histogram. Note that tf.summary.histogram uses the node name instead of the tag. This means that TensorFlow will automatically de-duplicate summary names based on their scope.\n",
      "WARNING:tensorflow:From /home/andrew/anaconda3/envs/magenta/lib/python2.7/site-packages/magenta/models/rl_tuner/rl_tuner.py:509 in build_graph.: histogram_summary (from tensorflow.python.ops.logging_ops) is deprecated and will be removed after 2016-11-30.\n",
      "Instructions for updating:\n",
      "Please switch to tf.summary.histogram. Note that tf.summary.histogram uses the node name instead of the tag. This means that TensorFlow will automatically de-duplicate summary names based on their scope.\n",
      "WARNING:tensorflow:From /home/andrew/anaconda3/envs/magenta/lib/python2.7/site-packages/magenta/models/rl_tuner/rl_tuner.py:511 in build_graph.: histogram_summary (from tensorflow.python.ops.logging_ops) is deprecated and will be removed after 2016-11-30.\n",
      "Instructions for updating:\n",
      "Please switch to tf.summary.histogram. Note that tf.summary.histogram uses the node name instead of the tag. This means that TensorFlow will automatically de-duplicate summary names based on their scope.\n",
      "WARNING:tensorflow:From /home/andrew/anaconda3/envs/magenta/lib/python2.7/site-packages/magenta/models/rl_tuner/rl_tuner.py:509 in build_graph.: histogram_summary (from tensorflow.python.ops.logging_ops) is deprecated and will be removed after 2016-11-30.\n",
      "Instructions for updating:\n",
      "Please switch to tf.summary.histogram. Note that tf.summary.histogram uses the node name instead of the tag. This means that TensorFlow will automatically de-duplicate summary names based on their scope.\n",
      "WARNING:tensorflow:From /home/andrew/anaconda3/envs/magenta/lib/python2.7/site-packages/magenta/models/rl_tuner/rl_tuner.py:511 in build_graph.: histogram_summary (from tensorflow.python.ops.logging_ops) is deprecated and will be removed after 2016-11-30.\n",
      "Instructions for updating:\n",
      "Please switch to tf.summary.histogram. Note that tf.summary.histogram uses the node name instead of the tag. This means that TensorFlow will automatically de-duplicate summary names based on their scope.\n",
      "WARNING:tensorflow:From /home/andrew/anaconda3/envs/magenta/lib/python2.7/site-packages/magenta/models/rl_tuner/rl_tuner.py:509 in build_graph.: histogram_summary (from tensorflow.python.ops.logging_ops) is deprecated and will be removed after 2016-11-30.\n",
      "Instructions for updating:\n",
      "Please switch to tf.summary.histogram. Note that tf.summary.histogram uses the node name instead of the tag. This means that TensorFlow will automatically de-duplicate summary names based on their scope.\n",
      "WARNING:tensorflow:From /home/andrew/anaconda3/envs/magenta/lib/python2.7/site-packages/magenta/models/rl_tuner/rl_tuner.py:511 in build_graph.: histogram_summary (from tensorflow.python.ops.logging_ops) is deprecated and will be removed after 2016-11-30.\n",
      "Instructions for updating:\n",
      "Please switch to tf.summary.histogram. Note that tf.summary.histogram uses the node name instead of the tag. This means that TensorFlow will automatically de-duplicate summary names based on their scope.\n",
      "WARNING:tensorflow:From /home/andrew/anaconda3/envs/magenta/lib/python2.7/site-packages/magenta/models/rl_tuner/rl_tuner.py:509 in build_graph.: histogram_summary (from tensorflow.python.ops.logging_ops) is deprecated and will be removed after 2016-11-30.\n",
      "Instructions for updating:\n",
      "Please switch to tf.summary.histogram. Note that tf.summary.histogram uses the node name instead of the tag. This means that TensorFlow will automatically de-duplicate summary names based on their scope.\n",
      "WARNING:tensorflow:From /home/andrew/anaconda3/envs/magenta/lib/python2.7/site-packages/magenta/models/rl_tuner/rl_tuner.py:509 in build_graph.: histogram_summary (from tensorflow.python.ops.logging_ops) is deprecated and will be removed after 2016-11-30.\n",
      "Instructions for updating:\n",
      "Please switch to tf.summary.histogram. Note that tf.summary.histogram uses the node name instead of the tag. This means that TensorFlow will automatically de-duplicate summary names based on their scope.\n",
      "WARNING:tensorflow:From /home/andrew/anaconda3/envs/magenta/lib/python2.7/site-packages/magenta/models/rl_tuner/rl_tuner.py:509 in build_graph.: histogram_summary (from tensorflow.python.ops.logging_ops) is deprecated and will be removed after 2016-11-30.\n",
      "Instructions for updating:\n",
      "Please switch to tf.summary.histogram. Note that tf.summary.histogram uses the node name instead of the tag. This means that TensorFlow will automatically de-duplicate summary names based on their scope.\n",
      "WARNING:tensorflow:From /home/andrew/anaconda3/envs/magenta/lib/python2.7/site-packages/magenta/models/rl_tuner/rl_tuner.py:509 in build_graph.: histogram_summary (from tensorflow.python.ops.logging_ops) is deprecated and will be removed after 2016-11-30.\n",
      "Instructions for updating:\n",
      "Please switch to tf.summary.histogram. Note that tf.summary.histogram uses the node name instead of the tag. This means that TensorFlow will automatically de-duplicate summary names based on their scope.\n",
      "WARNING:tensorflow:From /home/andrew/anaconda3/envs/magenta/lib/python2.7/site-packages/magenta/models/rl_tuner/rl_tuner.py:509 in build_graph.: histogram_summary (from tensorflow.python.ops.logging_ops) is deprecated and will be removed after 2016-11-30.\n",
      "Instructions for updating:\n",
      "Please switch to tf.summary.histogram. Note that tf.summary.histogram uses the node name instead of the tag. This means that TensorFlow will automatically de-duplicate summary names based on their scope.\n",
      "WARNING:tensorflow:From /home/andrew/anaconda3/envs/magenta/lib/python2.7/site-packages/magenta/models/rl_tuner/rl_tuner.py:511 in build_graph.: histogram_summary (from tensorflow.python.ops.logging_ops) is deprecated and will be removed after 2016-11-30.\n",
      "Instructions for updating:\n",
      "Please switch to tf.summary.histogram. Note that tf.summary.histogram uses the node name instead of the tag. This means that TensorFlow will automatically de-duplicate summary names based on their scope.\n",
      "WARNING:tensorflow:From /home/andrew/anaconda3/envs/magenta/lib/python2.7/site-packages/magenta/models/rl_tuner/rl_tuner.py:509 in build_graph.: histogram_summary (from tensorflow.python.ops.logging_ops) is deprecated and will be removed after 2016-11-30.\n",
      "Instructions for updating:\n",
      "Please switch to tf.summary.histogram. Note that tf.summary.histogram uses the node name instead of the tag. This means that TensorFlow will automatically de-duplicate summary names based on their scope.\n",
      "WARNING:tensorflow:From /home/andrew/anaconda3/envs/magenta/lib/python2.7/site-packages/magenta/models/rl_tuner/rl_tuner.py:511 in build_graph.: histogram_summary (from tensorflow.python.ops.logging_ops) is deprecated and will be removed after 2016-11-30.\n",
      "Instructions for updating:\n",
      "Please switch to tf.summary.histogram. Note that tf.summary.histogram uses the node name instead of the tag. This means that TensorFlow will automatically de-duplicate summary names based on their scope.\n",
      "WARNING:tensorflow:From /home/andrew/anaconda3/envs/magenta/lib/python2.7/site-packages/magenta/models/rl_tuner/rl_tuner.py:509 in build_graph.: histogram_summary (from tensorflow.python.ops.logging_ops) is deprecated and will be removed after 2016-11-30.\n",
      "Instructions for updating:\n",
      "Please switch to tf.summary.histogram. Note that tf.summary.histogram uses the node name instead of the tag. This means that TensorFlow will automatically de-duplicate summary names based on their scope.\n",
      "WARNING:tensorflow:From /home/andrew/anaconda3/envs/magenta/lib/python2.7/site-packages/magenta/models/rl_tuner/rl_tuner.py:511 in build_graph.: histogram_summary (from tensorflow.python.ops.logging_ops) is deprecated and will be removed after 2016-11-30.\n",
      "Instructions for updating:\n",
      "Please switch to tf.summary.histogram. Note that tf.summary.histogram uses the node name instead of the tag. This means that TensorFlow will automatically de-duplicate summary names based on their scope.\n",
      "WARNING:tensorflow:From /home/andrew/anaconda3/envs/magenta/lib/python2.7/site-packages/magenta/models/rl_tuner/rl_tuner.py:509 in build_graph.: histogram_summary (from tensorflow.python.ops.logging_ops) is deprecated and will be removed after 2016-11-30.\n",
      "Instructions for updating:\n",
      "Please switch to tf.summary.histogram. Note that tf.summary.histogram uses the node name instead of the tag. This means that TensorFlow will automatically de-duplicate summary names based on their scope.\n",
      "WARNING:tensorflow:From /home/andrew/anaconda3/envs/magenta/lib/python2.7/site-packages/magenta/models/rl_tuner/rl_tuner.py:511 in build_graph.: histogram_summary (from tensorflow.python.ops.logging_ops) is deprecated and will be removed after 2016-11-30.\n",
      "Instructions for updating:\n",
      "Please switch to tf.summary.histogram. Note that tf.summary.histogram uses the node name instead of the tag. This means that TensorFlow will automatically de-duplicate summary names based on their scope.\n",
      "INFO:tensorflow:Adding target network update portion of graph\n",
      "WARNING:tensorflow:From /home/andrew/anaconda3/envs/magenta/lib/python2.7/site-packages/magenta/models/rl_tuner/note_rnn_loader.py:420 in variables.: all_variables (from tensorflow.python.ops.variables) is deprecated and will be removed after 2017-03-02.\n",
      "Instructions for updating:\n",
      "Please use tf.global_variables instead.\n",
      "WARNING:tensorflow:From /home/andrew/anaconda3/envs/magenta/lib/python2.7/site-packages/magenta/models/rl_tuner/note_rnn_loader.py:420 in variables.: all_variables (from tensorflow.python.ops.variables) is deprecated and will be removed after 2017-03-02.\n",
      "Instructions for updating:\n",
      "Please use tf.global_variables instead.\n",
      "WARNING:tensorflow:From /home/andrew/anaconda3/envs/magenta/lib/python2.7/site-packages/magenta/models/rl_tuner/rl_tuner.py:530 in build_graph.: scalar_summary (from tensorflow.python.ops.logging_ops) is deprecated and will be removed after 2016-11-30.\n",
      "Instructions for updating:\n",
      "Please switch to tf.summary.scalar. Note that tf.summary.scalar uses the node name instead of the tag. This means that TensorFlow will automatically de-duplicate summary names based on the scope they are created in. Also, passing a tensor or list of tags to a scalar summary op is no longer supported.\n",
      "WARNING:tensorflow:From /home/andrew/anaconda3/envs/magenta/lib/python2.7/site-packages/magenta/models/rl_tuner/rl_tuner.py:532 in build_graph.: merge_all_summaries (from tensorflow.python.ops.logging_ops) is deprecated and will be removed after 2016-11-30.\n",
      "Instructions for updating:\n",
      "Please switch to tf.summary.merge_all.\n",
      "WARNING:tensorflow:From /home/andrew/anaconda3/envs/magenta/lib/python2.7/site-packages/tensorflow/python/ops/logging_ops.py:264 in merge_all_summaries.: merge_summary (from tensorflow.python.ops.logging_ops) is deprecated and will be removed after 2016-11-30.\n",
      "Instructions for updating:\n",
      "Please switch to tf.summary.merge.\n",
      "WARNING:tensorflow:From /home/andrew/anaconda3/envs/magenta/lib/python2.7/site-packages/magenta/models/rl_tuner/rl_tuner.py:296 in initialize_internal_models_graph_session.: initialize_all_variables (from tensorflow.python.ops.variables) is deprecated and will be removed after 2017-03-02.\n",
      "Instructions for updating:\n",
      "Use `tf.global_variables_initializer` instead.\n",
      "INFO:tensorflow:Restoring variables from checkpoint\n",
      "WARNING:tensorflow:From /home/andrew/anaconda3/envs/magenta/lib/python2.7/site-packages/magenta/models/rl_tuner/note_rnn_loader.py:420 in variables.: all_variables (from tensorflow.python.ops.variables) is deprecated and will be removed after 2017-03-02.\n",
      "Instructions for updating:\n",
      "Please use tf.global_variables instead.\n",
      "INFO:tensorflow:Checkpoint dir: /home/andrew/Git/rl_comps\n",
      "WARNING:tensorflow:Can't find checkpoint file, using /home/andrew/Git/rl_comps/note_rnn.ckpt\n",
      "INFO:tensorflow:Checkpoint file: /home/andrew/Git/rl_comps/note_rnn.ckpt\n",
      "INFO:tensorflow:Restoring variables from checkpoint\n",
      "WARNING:tensorflow:From /home/andrew/anaconda3/envs/magenta/lib/python2.7/site-packages/magenta/models/rl_tuner/note_rnn_loader.py:420 in variables.: all_variables (from tensorflow.python.ops.variables) is deprecated and will be removed after 2017-03-02.\n",
      "Instructions for updating:\n",
      "Please use tf.global_variables instead.\n",
      "INFO:tensorflow:Checkpoint dir: /home/andrew/Git/rl_comps\n",
      "WARNING:tensorflow:Can't find checkpoint file, using /home/andrew/Git/rl_comps/note_rnn.ckpt\n",
      "INFO:tensorflow:Checkpoint file: /home/andrew/Git/rl_comps/note_rnn.ckpt\n",
      "INFO:tensorflow:Restoring variables from checkpoint\n",
      "WARNING:tensorflow:From /home/andrew/anaconda3/envs/magenta/lib/python2.7/site-packages/magenta/models/rl_tuner/note_rnn_loader.py:420 in variables.: all_variables (from tensorflow.python.ops.variables) is deprecated and will be removed after 2017-03-02.\n",
      "Instructions for updating:\n",
      "Please use tf.global_variables instead.\n",
      "INFO:tensorflow:Checkpoint dir: /home/andrew/Git/rl_comps\n",
      "WARNING:tensorflow:Can't find checkpoint file, using /home/andrew/Git/rl_comps/note_rnn.ckpt\n",
      "INFO:tensorflow:Checkpoint file: /home/andrew/Git/rl_comps/note_rnn.ckpt\n",
      "WARNING:tensorflow:From /home/andrew/anaconda3/envs/magenta/lib/python2.7/site-packages/magenta/models/rl_tuner/note_rnn_loader.py:420 in variables.: all_variables (from tensorflow.python.ops.variables) is deprecated and will be removed after 2017-03-02.\n",
      "Instructions for updating:\n",
      "Please use tf.global_variables instead.\n",
      "WARNING:tensorflow:From /home/andrew/anaconda3/envs/magenta/lib/python2.7/site-packages/magenta/models/rl_tuner/note_rnn_loader.py:420 in variables.: all_variables (from tensorflow.python.ops.variables) is deprecated and will be removed after 2017-03-02.\n",
      "Instructions for updating:\n",
      "Please use tf.global_variables instead.\n",
      "\n",
      "Successfully initialized internal nets from checkpoint!\n",
      "INFO:tensorflow:\n",
      "Successfully initialized internal nets from checkpoint!\n"
     ]
    }
   ],
   "source": [
    "g_rl_net = rl_tuner.RLTuner(SAVE_PATH, \n",
    "                          dqn_hparams=rl_tuner_hparams, \n",
    "                          algorithm=ALGORITHM,\n",
    "                          reward_scaler=REWARD_SCALER,\n",
    "                          output_every_nth=OUTPUT_EVERY_NTH,\n",
    "                          num_notes_in_melody=NUM_NOTES_IN_COMPOSITION) #,\n",
    "                          #note_rnn_checkpoint_dir=SAVE_PATH,\n",
    "                          #note_rnn_checkpoint_file=\"g.ckpt-950000\")"
   ]
  },
  {
   "cell_type": "code",
   "execution_count": 7,
   "metadata": {
    "collapsed": false
   },
   "outputs": [
    {
     "name": "stdout",
     "output_type": "stream",
     "text": [
      "Attempting to restore from checkpoint /home/andrew/Git/rl_comps/g/g.ckpt-950000\n",
      "INFO:tensorflow:Attempting to restore from checkpoint /home/andrew/Git/rl_comps/g/g.ckpt-950000\n"
     ]
    }
   ],
   "source": [
    "g_rl_net.restore_from_directory(directory=SAVE_PATH, checkpoint_name=\"g.ckpt-950000\") "
   ]
  },
  {
   "cell_type": "code",
   "execution_count": 8,
   "metadata": {
    "collapsed": false
   },
   "outputs": [
    {
     "name": "stdout",
     "output_type": "stream",
     "text": [
      "INFO:tensorflow:Priming with note 34\n",
      "INFO:tensorflow:Generated sequence: [5, 24, 24, 24, 35, 35, 32, 21, 35, 35, 35, 35, 21, 37, 37, 37, 25, 3, 21, 3, 3, 13, 13, 13, 13, 13, 13, 16, 13, 8, 16, 13, 13, 16, 21, 35, 35, 9, 21, 3, 37, 37, 21, 37, 37, 13, 13, 9, 9, 10, 21, 3, 10, 10, 13, 13, 13, 13, 21, 37, 37, 37, 21, 29, 29, 3, 6, 17, 2, 2, 2, 2, 2, 26, 2, 26, 2, 26, 2, 6, 2, 6, 6, 6, 6, 6, 37, 6, 21, 37, 10, 34, 13, 10, 10, 10, 17, 17, 10, 10, 23, 3, 10, 21, 3, 3, 32, 21, 3, 3, 31, 31, 10, 10, 10, 21, 3, 35, 35, 16, 23, 8, 10, 32, 12, 12, 13, 10, 10, 10, 10, 10, 9, 10, 24, 10, 11, 11, 21, 35, 35, 35, 6, 16, 14, 16, 16, 21, 3, 37, 24, 21, 3, 37, 3, 3, 29, 37, 3, 14, 23, 3, 3, 31, 31, 31, 16, 35, 35, 23, 8, 29, 32, 16, 10, 35, 10, 35, 10, 1, 21, 32, 36, 36, 1, 16, 10, 23, 8, 17, 17, 17, 35, 35, 1, 16, 18, 16, 16, 18, 3, 6, 3, 3, 17, 16, 16, 6, 6, 6, 6, 13, 37, 37, 14, 14, 17, 17, 17, 17, 17, 6, 17, 21, 3, 3, 35, 16, 21, 3, 5, 5, 5, 35, 35, 35, 9, 0, 2, 21, 3, 29, 29, 29, 6, 6, 6, 30, 30, 6, 1, 6, 21, 3, 35, 35, 2, 2, 2, 8, 17, 8, 8, 10, 0, 27, 8, 25, 25, 17, 6, 17, 29, 21, 3, 32, 32, 21, 3, 32, 24, 29, 35, 35, 35, 35, 35, 16, 3, 35, 35, 35, 21, 3, 37, 37, 37, 21, 3, 37]\n",
      "Generated sequence: [5, 24, 24, 24, 35, 35, 32, 21, 35, 35, 35, 35, 21, 37, 37, 37, 25, 3, 21, 3, 3, 13, 13, 13, 13, 13, 13, 16, 13, 8, 16, 13, 13, 16, 21, 35, 35, 9, 21, 3, 37, 37, 21, 37, 37, 13, 13, 9, 9, 10, 21, 3, 10, 10, 13, 13, 13, 13, 21, 37, 37, 37, 21, 29, 29, 3, 6, 17, 2, 2, 2, 2, 2, 26, 2, 26, 2, 26, 2, 6, 2, 6, 6, 6, 6, 6, 37, 6, 21, 37, 10, 34, 13, 10, 10, 10, 17, 17, 10, 10, 23, 3, 10, 21, 3, 3, 32, 21, 3, 3, 31, 31, 10, 10, 10, 21, 3, 35, 35, 16, 23, 8, 10, 32, 12, 12, 13, 10, 10, 10, 10, 10, 9, 10, 24, 10, 11, 11, 21, 35, 35, 35, 6, 16, 14, 16, 16, 21, 3, 37, 24, 21, 3, 37, 3, 3, 29, 37, 3, 14, 23, 3, 3, 31, 31, 31, 16, 35, 35, 23, 8, 29, 32, 16, 10, 35, 10, 35, 10, 1, 21, 32, 36, 36, 1, 16, 10, 23, 8, 17, 17, 17, 35, 35, 1, 16, 18, 16, 16, 18, 3, 6, 3, 3, 17, 16, 16, 6, 6, 6, 6, 13, 37, 37, 14, 14, 17, 17, 17, 17, 17, 6, 17, 21, 3, 3, 35, 16, 21, 3, 5, 5, 5, 35, 35, 35, 9, 0, 2, 21, 3, 29, 29, 29, 6, 6, 6, 30, 30, 6, 1, 6, 21, 3, 35, 35, 2, 2, 2, 8, 17, 8, 8, 10, 0, 27, 8, 25, 25, 17, 6, 17, 29, 21, 3, 32, 32, 21, 3, 32, 24, 29, 35, 35, 35, 35, 35, 16, 3, 35, 35, 35, 21, 3, 37, 37, 37, 21, 3, 37]\n",
      "INFO:tensorflow:Wrote a melody to /home/andrew/Git/rl_comps/g/\n",
      "INFO:tensorflow:Visualizing note selection probabilities:\n"
     ]
    },
    {
     "data": {
      "image/png": "[encoded data removed]",
      "text/plain": [
       "<matplotlib.figure.Figure at 0x7fbe60200650>"
      ]
     },
     "metadata": {},
     "output_type": "display_data"
    }
   ],
   "source": [
    "g_rl_net.generate_music_sequence(visualize_probs=True, title='my_g_rl')"
   ]
  },
  {
   "cell_type": "code",
   "execution_count": null,
   "metadata": {
    "collapsed": false
   },
   "outputs": [],
   "source": [
    "# Compute statistics about how well the model adheres to the music theory rules.\n",
    "g_stat_dict = g_rl_net.evaluate_music_theory_metrics(num_compositions=100)"
   ]
  },
  {
   "cell_type": "code",
   "execution_count": null,
   "metadata": {
    "collapsed": true
   },
   "outputs": [],
   "source": []
  }
 ],
 "metadata": {
  "kernelspec": {
   "display_name": "Python 2",
   "language": "python",
   "name": "python2"
  },
  "language_info": {
   "codemirror_mode": {
    "name": "ipython",
    "version": 2
   },
   "file_extension": ".py",
   "mimetype": "text/x-python",
   "name": "python",
   "nbconvert_exporter": "python",
   "pygments_lexer": "ipython2",
   "version": "2.7.12"
  }
 },
 "nbformat": 4,
 "nbformat_minor": 2
}
